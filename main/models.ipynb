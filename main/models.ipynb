{
 "cells": [
  {
   "cell_type": "code",
   "execution_count": 23,
   "outputs": [],
   "source": [
    "import warnings\n",
    "warnings.filterwarnings(\"ignore\")\n",
    "\n",
    "import pandas as pd\n",
    "import numpy as np\n",
    "from matplotlib import pyplot as plt\n",
    "from helpers import get_train_test ,get_class_ratios, RANDOM_STATE\n",
    "from helpers import classification_report, confusion_matrix\n",
    "\n",
    "from sklearn.linear_model import LogisticRegression\n",
    "from sklearn.svm import SVC\n",
    "from helpers import XGBoostModel\n"
   ],
   "metadata": {
    "collapsed": false,
    "pycharm": {
     "name": "#%%\n"
    }
   }
  },
  {
   "cell_type": "markdown",
   "source": [
    "# Testing various models with processes Dataset"
   ],
   "metadata": {
    "collapsed": false,
    "pycharm": {
     "name": "#%% md\n"
    }
   }
  },
  {
   "cell_type": "markdown",
   "source": [
    "We will independently test the following models, with processed dataset from our Type 1 Preprocessing and Type 2 Preprocessing respectively.\n",
    "\n",
    "Models to be tested are:\n",
    "\n",
    "1. Logistic Regression\n",
    "2. Support Vector Machine\n",
    "3. Decision Tree Classifier (Ensemble)\n",
    "4. Random Forest Classifier\n",
    "5. Naive Bayes Classifier\n",
    "6. XGBoost Classifier"
   ],
   "metadata": {
    "collapsed": false,
    "pycharm": {
     "name": "#%% md\n"
    }
   }
  },
  {
   "cell_type": "code",
   "execution_count": 12,
   "outputs": [],
   "source": [
    "## Extracting Data from Processed Dataset\n",
    "df_1 = pd.read_csv('../dataset/processed_dataset/final_data_S1.csv')\n",
    "df_2 = pd.read_csv('../dataset/processed_dataset/final_data_S2.csv')\n",
    "\n",
    "X1_train, X1_test, y1_train, y1_test = get_train_test(df_1)\n",
    "X2_train, X2_test, y2_train, y2_test = get_train_test(df_2)"
   ],
   "metadata": {
    "collapsed": false,
    "pycharm": {
     "name": "#%%\n"
    }
   }
  },
  {
   "cell_type": "code",
   "execution_count": 13,
   "outputs": [
    {
     "data": {
      "text/plain": "<AxesSubplot:title={'center':'Train and Test class ratio for Dataset-2'}>"
     },
     "execution_count": 13,
     "metadata": {},
     "output_type": "execute_result"
    },
    {
     "data": {
      "text/plain": "<Figure size 864x432 with 2 Axes>",
      "image/png": "[encoded data removed]"
     },
     "metadata": {
      "needs_background": "light"
     },
     "output_type": "display_data"
    }
   ],
   "source": [
    "figure,ax = plt.subplots(1,2,figsize=(12,6), gridspec_kw={'wspace':0.2})\n",
    "get_class_ratios(y1_train,y1_test).plot(\n",
    "    kind='bar',ax=ax[0],title='Train and Test class ratio for Dataset-1', legend=True, color=['blue','red'], fontsize=14\n",
    ")\n",
    "get_class_ratios(y2_train,y2_test).plot(\n",
    "    kind='bar',ax=ax[1],title='Train and Test class ratio for Dataset-2', legend=True, color=['blue','red'], fontsize=14\n",
    ")"
   ],
   "metadata": {
    "collapsed": false,
    "pycharm": {
     "name": "#%%\n"
    }
   }
  },
  {
   "cell_type": "markdown",
   "source": [
    "We can see distribution of 75:25 , for both the datasets. This shows imbalance in the data, and will consider measures in models like weighting, balancing, etc."
   ],
   "metadata": {
    "collapsed": false,
    "pycharm": {
     "name": "#%% md\n"
    }
   }
  },
  {
   "cell_type": "markdown",
   "source": [
    "## Logistic Regression\n",
    "\n",
    "Let's test the Logistic Regression model with processed dataset.\n",
    "\n",
    "We are using **[SKLearn- Logistic Regression](https://scikit-learn.org/stable/modules/generated/sklearn.linear_model.LogisticRegression.html)** library for this. All the hyper-parameters are tested through GridSearch with parallel processing."
   ],
   "metadata": {
    "collapsed": false,
    "pycharm": {
     "name": "#%% md\n"
    }
   }
  },
  {
   "cell_type": "markdown",
   "source": [
    "### Type 1 Dataset"
   ],
   "metadata": {
    "collapsed": false,
    "pycharm": {
     "name": "#%% md\n"
    }
   }
  },
  {
   "cell_type": "code",
   "execution_count": 14,
   "outputs": [],
   "source": [
    "lr1_model = LogisticRegression(\n",
    "    C=0.1 ,\n",
    "    l1_ratio = 0.4 ,\n",
    "    penalty='elasticnet' ,\n",
    "    solver='saga' ,\n",
    "    tol=0.12 ,\n",
    "    max_iter=1000,\n",
    "    class_weight='balanced',\n",
    "    random_state=RANDOM_STATE\n",
    ").fit(X1_train, y1_train)\n",
    "\n",
    "prediction = lr1_model.predict(X1_test)"
   ],
   "metadata": {
    "collapsed": false,
    "pycharm": {
     "name": "#%%\n"
    }
   }
  },
  {
   "cell_type": "code",
   "execution_count": 15,
   "outputs": [
    {
     "name": "stdout",
     "output_type": "stream",
     "text": [
      "              precision    recall  f1-score   support\n",
      "\n",
      "           0       0.65      0.50      0.57        34\n",
      "           1       0.85      0.91      0.88       102\n",
      "\n",
      "    accuracy                           0.81       136\n",
      "   macro avg       0.75      0.71      0.72       136\n",
      "weighted avg       0.80      0.81      0.80       136\n",
      "\n",
      "         auc                           0.71 \n",
      "\n"
     ]
    },
    {
     "data": {
      "text/plain": "<Figure size 432x288 with 1 Axes>",
      "image/png": "[encoded data removed]"
     },
     "metadata": {
      "needs_background": "light"
     },
     "output_type": "display_data"
    }
   ],
   "source": [
    "print(classification_report(y1_test,prediction))\n",
    "confusion_matrix(y1_test,prediction,\"LR model for Dataset-1\")"
   ],
   "metadata": {
    "collapsed": false,
    "pycharm": {
     "name": "#%%\n"
    }
   }
  },
  {
   "cell_type": "markdown",
   "source": [
    "We can see average F1 score of **0.8 (or 80%)**, with average Recall and Precision of **0.80** and **0.81** respectively.\n",
    "\n",
    "From **Confusion matrix** , we can see our model is having difficulty on classifying **Negative Examples** (i.e Higher FP). This may be cause of Inbalanced Dataset."
   ],
   "metadata": {
    "collapsed": false,
    "pycharm": {
     "name": "#%% md\n"
    }
   }
  },
  {
   "cell_type": "markdown",
   "source": [
    "### Type 2 Dataset"
   ],
   "metadata": {
    "collapsed": false,
    "pycharm": {
     "name": "#%% md\n"
    }
   }
  },
  {
   "cell_type": "code",
   "execution_count": 17,
   "outputs": [],
   "source": [
    "lr2_model = LogisticRegression(\n",
    "    C=0.45 ,\n",
    "    penalty='l2' ,\n",
    "    solver='saga' ,\n",
    "    tol=0.125 ,\n",
    "    max_iter=1000,\n",
    "    class_weight='balanced',\n",
    "    random_state=RANDOM_STATE\n",
    ").fit(X2_train, y2_train)\n",
    "\n",
    "prediction = lr2_model.predict(X2_test)\n"
   ],
   "metadata": {
    "collapsed": false,
    "pycharm": {
     "name": "#%%\n"
    }
   }
  },
  {
   "cell_type": "code",
   "execution_count": 18,
   "outputs": [
    {
     "name": "stdout",
     "output_type": "stream",
     "text": [
      "              precision    recall  f1-score   support\n",
      "\n",
      "           0       0.51      0.68      0.58        34\n",
      "           1       0.88      0.78      0.83       102\n",
      "\n",
      "    accuracy                           0.76       136\n",
      "   macro avg       0.70      0.73      0.71       136\n",
      "weighted avg       0.79      0.76      0.77       136\n",
      "\n",
      "         auc                           0.73 \n",
      "\n"
     ]
    },
    {
     "data": {
      "text/plain": "<Figure size 432x288 with 1 Axes>",
      "image/png": "[encoded data removed]"
     },
     "metadata": {
      "needs_background": "light"
     },
     "output_type": "display_data"
    }
   ],
   "source": [
    "print(classification_report(y2_test,prediction))\n",
    "confusion_matrix(y2_test,prediction,\"LR model for Dataset-2\")"
   ],
   "metadata": {
    "collapsed": false,
    "pycharm": {
     "name": "#%%\n"
    }
   }
  },
  {
   "cell_type": "markdown",
   "source": [
    "We can see average F1 score of **0.77 (or 77%)**, with average Recall and Precision of **0.86** and **0.79** respectively.\n",
    "\n",
    "From **Confusion matrix** , we can see our model is having difficulty on classifying **Negative Examples** (i.e Higher FP). This model slightly worse than our LR1 model."
   ],
   "metadata": {
    "collapsed": false,
    "pycharm": {
     "name": "#%% md\n"
    }
   }
  },
  {
   "cell_type": "markdown",
   "source": [
    "---"
   ],
   "metadata": {
    "collapsed": false,
    "pycharm": {
     "name": "#%% md\n"
    }
   }
  },
  {
   "cell_type": "markdown",
   "source": [
    "## Simple Vector Machine (SVM)\n",
    "\n",
    "Let's test the SVM model with processed dataset.\n",
    "\n",
    "We are using **[SKLearn- SVM](https://scikit-learn.org/stable/modules/classes.html#module-sklearn.svm)** library for this. All the hyper-parameters are tested through GridSearch with parallel processing."
   ],
   "metadata": {
    "collapsed": false,
    "pycharm": {
     "name": "#%% md\n"
    }
   }
  },
  {
   "cell_type": "markdown",
   "source": [
    "### Type 1 Dataset"
   ],
   "metadata": {
    "collapsed": false,
    "pycharm": {
     "name": "#%% md\n"
    }
   }
  },
  {
   "cell_type": "code",
   "execution_count": 19,
   "outputs": [],
   "source": [
    "svm1_model = SVC(\n",
    "    C=1.1,\n",
    "    coef0=0,\n",
    "    degree=8,\n",
    "    gamma='scale',\n",
    "    kernel='rbf',\n",
    "    tol=0.47,\n",
    "    class_weight='balanced',\n",
    "    random_state=RANDOM_STATE\n",
    ").fit(X1_train, y1_train)\n",
    "\n",
    "prediction = svm1_model.predict(X1_test)"
   ],
   "metadata": {
    "collapsed": false,
    "pycharm": {
     "name": "#%%\n"
    }
   }
  },
  {
   "cell_type": "code",
   "execution_count": 20,
   "outputs": [
    {
     "name": "stdout",
     "output_type": "stream",
     "text": [
      "              precision    recall  f1-score   support\n",
      "\n",
      "           0       0.65      0.76      0.70        34\n",
      "           1       0.92      0.86      0.89       102\n",
      "\n",
      "    accuracy                           0.84       136\n",
      "   macro avg       0.78      0.81      0.80       136\n",
      "weighted avg       0.85      0.84      0.84       136\n",
      "\n",
      "         auc                           0.81 \n",
      "\n"
     ]
    },
    {
     "data": {
      "text/plain": "<Figure size 432x288 with 1 Axes>",
      "image/png": "[encoded data removed]"
     },
     "metadata": {
      "needs_background": "light"
     },
     "output_type": "display_data"
    }
   ],
   "source": [
    "print(classification_report(y1_test,prediction))\n",
    "confusion_matrix(y1_test,prediction,\"SVM model for Dataset-1\")"
   ],
   "metadata": {
    "collapsed": false,
    "pycharm": {
     "name": "#%%\n"
    }
   }
  },
  {
   "cell_type": "markdown",
   "source": [
    "We can see average F1 score of **0.84 (or 84%)**, with average Recall and Precision of **0.85** and **0.84** respectively.\n",
    "\n",
    "Confusion matrix show nearly fair distribution of the data."
   ],
   "metadata": {
    "collapsed": false,
    "pycharm": {
     "name": "#%% md\n"
    }
   }
  },
  {
   "cell_type": "markdown",
   "source": [
    "### Type 2 Dataset"
   ],
   "metadata": {
    "collapsed": false,
    "pycharm": {
     "name": "#%% md\n"
    }
   }
  },
  {
   "cell_type": "code",
   "execution_count": 21,
   "outputs": [],
   "source": [
    "svm2_model = SVC(\n",
    "    C=2.4,\n",
    "    coef0=0.06,\n",
    "    degree=7,\n",
    "    gamma='scale',\n",
    "    kernel='rbf',\n",
    "    tol=0.38,\n",
    "    class_weight='balanced',\n",
    "    random_state=RANDOM_STATE\n",
    ").fit(X2_train, y2_train)\n",
    "\n",
    "prediction = svm2_model.predict(X2_test)"
   ],
   "metadata": {
    "collapsed": false,
    "pycharm": {
     "name": "#%%\n"
    }
   }
  },
  {
   "cell_type": "code",
   "execution_count": 22,
   "outputs": [
    {
     "name": "stdout",
     "output_type": "stream",
     "text": [
      "              precision    recall  f1-score   support\n",
      "\n",
      "           0       0.83      0.74      0.78        34\n",
      "           1       0.92      0.95      0.93       102\n",
      "\n",
      "    accuracy                           0.90       136\n",
      "   macro avg       0.87      0.84      0.86       136\n",
      "weighted avg       0.89      0.90      0.89       136\n",
      "\n",
      "         auc                           0.84 \n",
      "\n"
     ]
    },
    {
     "data": {
      "text/plain": "<Figure size 432x288 with 1 Axes>",
      "image/png": "[encoded data removed]"
     },
     "metadata": {
      "needs_background": "light"
     },
     "output_type": "display_data"
    }
   ],
   "source": [
    "print(classification_report(y2_test,prediction))\n",
    "confusion_matrix(y2_test,prediction,\"SVM model for Dataset-2\")"
   ],
   "metadata": {
    "collapsed": false,
    "pycharm": {
     "name": "#%%\n"
    }
   }
  },
  {
   "cell_type": "markdown",
   "source": [
    "We can see average F1 score of **0.89 (or 89%)**, with average Recall and Precision of **0.90** and **0.89** respectively.\n",
    "\n",
    "From **Confusion matrix** , we can see model svm2 is far better than svm1 on classifying both classes."
   ],
   "metadata": {
    "collapsed": false,
    "pycharm": {
     "name": "#%% md\n"
    }
   }
  },
  {
   "cell_type": "markdown",
   "source": [
    "---"
   ],
   "metadata": {
    "collapsed": false,
    "pycharm": {
     "name": "#%% md\n"
    }
   }
  },
  {
   "cell_type": "markdown",
   "source": [
    "## Xtrem Gradient Boosting (XGBoost)\n",
    "\n",
    "Let's test the XGBoost model with processed dataset.\n",
    "\n",
    "We are using **[XGBoost](https://xgboost.readthedocs.io/en/stable/python/python_api.html)** library for this. All the hyper-parameters are tested through GridSearch with parallel processing."
   ],
   "metadata": {
    "collapsed": false,
    "pycharm": {
     "name": "#%% md\n"
    }
   }
  },
  {
   "cell_type": "markdown",
   "source": [
    "### Type 1 Dataset"
   ],
   "metadata": {
    "collapsed": false,
    "pycharm": {
     "name": "#%% md\n"
    }
   }
  },
  {
   "cell_type": "code",
   "execution_count": 27,
   "outputs": [
    {
     "name": "stdout",
     "output_type": "stream",
     "text": [
      "Training XGBoost model...\n"
     ]
    }
   ],
   "source": [
    "params = {\n",
    "    'booster': 'gbtree', 'colsample_bylevel': 0.5, 'colsample_bynode': 0.5, 'colsample_bytree': 0.8, 'gamma': 0.2, 'grow_policy': 'depthwise','learning_rate': 0.6,\n",
    "    'max_delta_step': 0.41, 'max_depth': 5, 'min_child_weight': 0.42, 'num_parallel_tree': 1, 'reg_alpha': 0.1, 'reg_lambda': 0.45,'subsample': 0.8, 'tree_method': 'exact'\n",
    "}\n",
    "xgb1_model = XGBoostModel( **params )\n",
    "xgb1_model.fit(X1_train,y1_train, X1_test, y1_test, verbose=False)\n",
    "\n",
    "prediction = xgb1_model.predict(X1_test)"
   ],
   "metadata": {
    "collapsed": false,
    "pycharm": {
     "name": "#%%\n"
    }
   }
  },
  {
   "cell_type": "code",
   "execution_count": 28,
   "outputs": [
    {
     "name": "stdout",
     "output_type": "stream",
     "text": [
      "              precision    recall  f1-score   support\n",
      "\n",
      "           0       0.89      0.74      0.81        34\n",
      "           1       0.92      0.97      0.94       102\n",
      "\n",
      "    accuracy                           0.91       136\n",
      "   macro avg       0.90      0.85      0.87       136\n",
      "weighted avg       0.91      0.91      0.91       136\n",
      "\n",
      "         auc                           0.85 \n",
      "\n"
     ]
    },
    {
     "data": {
      "text/plain": "<Figure size 432x288 with 1 Axes>",
      "image/png": "[encoded data removed]"
     },
     "metadata": {
      "needs_background": "light"
     },
     "output_type": "display_data"
    }
   ],
   "source": [
    "print(classification_report(y1_test,prediction))\n",
    "confusion_matrix(y1_test,prediction,\"XGBoost model for Dataset-1\")"
   ],
   "metadata": {
    "collapsed": false,
    "pycharm": {
     "name": "#%%\n"
    }
   }
  },
  {
   "cell_type": "markdown",
   "source": [
    "We can see average F1 score of **0.91 (or 91%)**, with average Recall and Precision of **0.91** and **0.91** respectively.\n",
    "\n",
    "From **Confusion matrix** , we can see this model is by far best model."
   ],
   "metadata": {
    "collapsed": false,
    "pycharm": {
     "name": "#%% md\n"
    }
   }
  },
  {
   "cell_type": "markdown",
   "source": [
    "### Type 2 Dataset"
   ],
   "metadata": {
    "collapsed": false,
    "pycharm": {
     "name": "#%% md\n"
    }
   }
  },
  {
   "cell_type": "code",
   "execution_count": 29,
   "outputs": [
    {
     "name": "stdout",
     "output_type": "stream",
     "text": [
      "Training XGBoost model...\n"
     ]
    }
   ],
   "source": [
    "params = {\n",
    "    'booster': 'gbtree', 'colsample_bylevel': 0.5, 'colsample_bynode': 0.5, 'colsample_bytree': 0.8, 'gamma': 0.2, 'grow_policy': 'depthwise', 'learning_rate': 0.7,\n",
    "    'max_delta_step': 0.41, 'max_depth': 8, 'min_child_weight': 0.42, 'num_parallel_tree': 1, 'reg_alpha': 2.3, 'reg_lambda': 2.3, 'subsample': 0.8, 'tree_method': 'exact'\n",
    "}\n",
    "xgb2_model = XGBoostModel( **params )\n",
    "xgb2_model.fit(X2_train,y2_train, X2_test, y2_test, verbose=False)\n",
    "\n",
    "prediction = xgb2_model.predict(X2_test)"
   ],
   "metadata": {
    "collapsed": false,
    "pycharm": {
     "name": "#%%\n"
    }
   }
  },
  {
   "cell_type": "code",
   "execution_count": 30,
   "outputs": [
    {
     "name": "stdout",
     "output_type": "stream",
     "text": [
      "              precision    recall  f1-score   support\n",
      "\n",
      "           0       0.80      0.71      0.75        34\n",
      "           1       0.91      0.94      0.92       102\n",
      "\n",
      "    accuracy                           0.88       136\n",
      "   macro avg       0.85      0.82      0.84       136\n",
      "weighted avg       0.88      0.88      0.88       136\n",
      "\n",
      "         auc                           0.82 \n",
      "\n"
     ]
    },
    {
     "data": {
      "text/plain": "<Figure size 432x288 with 1 Axes>",
      "image/png": "[encoded data removed]"
     },
     "metadata": {
      "needs_background": "light"
     },
     "output_type": "display_data"
    }
   ],
   "source": [
    "print(classification_report(y1_test,prediction))\n",
    "confusion_matrix(y1_test,prediction,\"XGBoost model for Dataset-2\")"
   ],
   "metadata": {
    "collapsed": false,
    "pycharm": {
     "name": "#%%\n"
    }
   }
  },
  {
   "cell_type": "markdown",
   "source": [
    "We can see average F1 score of **0.88 (or 88%)**, with average Recall and Precision of **0.88** and **0.88** respectively.\n",
    "\n",
    "From **Confusion matrix** , we can see this model is slightly worse than our XGB1 model, but better than other model till now."
   ],
   "metadata": {
    "collapsed": false,
    "pycharm": {
     "name": "#%% md\n"
    }
   }
  },
  {
   "cell_type": "markdown",
   "source": [
    "---"
   ],
   "metadata": {
    "collapsed": false,
    "pycharm": {
     "name": "#%% md\n"
    }
   }
  },
  {
   "cell_type": "code",
   "execution_count": null,
   "outputs": [],
   "source": [],
   "metadata": {
    "collapsed": false,
    "pycharm": {
     "name": "#%%\n"
    }
   }
  }
 ],
 "metadata": {
  "kernelspec": {
   "display_name": "Python 3",
   "language": "python",
   "name": "python3"
  },
  "language_info": {
   "codemirror_mode": {
    "name": "ipython",
    "version": 2
   },
   "file_extension": ".py",
   "mimetype": "text/x-python",
   "name": "python",
   "nbconvert_exporter": "python",
   "pygments_lexer": "ipython2",
   "version": "2.7.6"
  }
 },
 "nbformat": 4,
 "nbformat_minor": 0
}