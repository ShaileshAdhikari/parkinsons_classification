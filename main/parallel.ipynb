{
 "cells": [
  {
   "cell_type": "code",
   "execution_count": 1,
   "outputs": [
    {
     "data": {
      "text/plain": "<Client: 'tcp://127.0.0.1:43721' processes=4 threads=8, memory=7.65 GiB>",
      "text/html": "<div>\n    <div style=\"width: 24px; height: 24px; background-color: #e1e1e1; border: 3px solid #9D9D9D; border-radius: 5px; position: absolute;\"> </div>\n    <div style=\"margin-left: 48px;\">\n        <h3 style=\"margin-bottom: 0px;\">Client</h3>\n        <p style=\"color: #9D9D9D; margin-bottom: 0px;\">Client-a5f085e4-034a-11ed-afe9-f8597113e688</p>\n        <table style=\"width: 100%; text-align: left;\">\n\n        <tr>\n        \n            <td style=\"text-align: left;\"><strong>Connection method:</strong> Cluster object</td>\n            <td style=\"text-align: left;\"><strong>Cluster type:</strong> distributed.LocalCluster</td>\n        \n        </tr>\n\n        \n            <tr>\n                <td style=\"text-align: left;\">\n                    <strong>Dashboard: </strong> <a href=\"http://127.0.0.1:8787/status\" target=\"_blank\">http://127.0.0.1:8787/status</a>\n                </td>\n                <td style=\"text-align: left;\"></td>\n            </tr>\n        \n\n        </table>\n\n        \n            <details>\n            <summary style=\"margin-bottom: 20px;\"><h3 style=\"display: inline;\">Cluster Info</h3></summary>\n            <div class=\"jp-RenderedHTMLCommon jp-RenderedHTML jp-mod-trusted jp-OutputArea-output\">\n    <div style=\"width: 24px; height: 24px; background-color: #e1e1e1; border: 3px solid #9D9D9D; border-radius: 5px; position: absolute;\">\n    </div>\n    <div style=\"margin-left: 48px;\">\n        <h3 style=\"margin-bottom: 0px; margin-top: 0px;\">LocalCluster</h3>\n        <p style=\"color: #9D9D9D; margin-bottom: 0px;\">fad40d4a</p>\n        <table style=\"width: 100%; text-align: left;\">\n            <tr>\n                <td style=\"text-align: left;\">\n                    <strong>Dashboard:</strong> <a href=\"http://127.0.0.1:8787/status\" target=\"_blank\">http://127.0.0.1:8787/status</a>\n                </td>\n                <td style=\"text-align: left;\">\n                    <strong>Workers:</strong> 4\n                </td>\n            </tr>\n            <tr>\n                <td style=\"text-align: left;\">\n                    <strong>Total threads:</strong> 8\n                </td>\n                <td style=\"text-align: left;\">\n                    <strong>Total memory:</strong> 7.65 GiB\n                </td>\n            </tr>\n            \n            <tr>\n    <td style=\"text-align: left;\"><strong>Status:</strong> running</td>\n    <td style=\"text-align: left;\"><strong>Using processes:</strong> True</td>\n</tr>\n\n            \n        </table>\n\n        <details>\n            <summary style=\"margin-bottom: 20px;\">\n                <h3 style=\"display: inline;\">Scheduler Info</h3>\n            </summary>\n\n            <div style=\"\">\n    <div>\n        <div style=\"width: 24px; height: 24px; background-color: #FFF7E5; border: 3px solid #FF6132; border-radius: 5px; position: absolute;\"> </div>\n        <div style=\"margin-left: 48px;\">\n            <h3 style=\"margin-bottom: 0px;\">Scheduler</h3>\n            <p style=\"color: #9D9D9D; margin-bottom: 0px;\">Scheduler-ff8afa3f-bc6d-482e-b9ad-6c41ea38a3b6</p>\n            <table style=\"width: 100%; text-align: left;\">\n                <tr>\n                    <td style=\"text-align: left;\">\n                        <strong>Comm:</strong> tcp://127.0.0.1:43721\n                    </td>\n                    <td style=\"text-align: left;\">\n                        <strong>Workers:</strong> 4\n                    </td>\n                </tr>\n                <tr>\n                    <td style=\"text-align: left;\">\n                        <strong>Dashboard:</strong> <a href=\"http://127.0.0.1:8787/status\" target=\"_blank\">http://127.0.0.1:8787/status</a>\n                    </td>\n                    <td style=\"text-align: left;\">\n                        <strong>Total threads:</strong> 8\n                    </td>\n                </tr>\n                <tr>\n                    <td style=\"text-align: left;\">\n                        <strong>Started:</strong> Just now\n                    </td>\n                    <td style=\"text-align: left;\">\n                        <strong>Total memory:</strong> 7.65 GiB\n                    </td>\n                </tr>\n            </table>\n        </div>\n    </div>\n\n    <details style=\"margin-left: 48px;\">\n        <summary style=\"margin-bottom: 20px;\">\n            <h3 style=\"display: inline;\">Workers</h3>\n        </summary>\n\n        \n        <div style=\"margin-bottom: 20px;\">\n            <div style=\"width: 24px; height: 24px; background-color: #DBF5FF; border: 3px solid #4CC9FF; border-radius: 5px; position: absolute;\"> </div>\n            <div style=\"margin-left: 48px;\">\n            <details>\n                <summary>\n                    <h4 style=\"margin-bottom: 0px; display: inline;\">Worker: 0</h4>\n                </summary>\n                <table style=\"width: 100%; text-align: left;\">\n                    <tr>\n                        <td style=\"text-align: left;\">\n                            <strong>Comm: </strong> tcp://127.0.0.1:39175\n                        </td>\n                        <td style=\"text-align: left;\">\n                            <strong>Total threads: </strong> 2\n                        </td>\n                    </tr>\n                    <tr>\n                        <td style=\"text-align: left;\">\n                            <strong>Dashboard: </strong> <a href=\"http://127.0.0.1:42175/status\" target=\"_blank\">http://127.0.0.1:42175/status</a>\n                        </td>\n                        <td style=\"text-align: left;\">\n                            <strong>Memory: </strong> 1.91 GiB\n                        </td>\n                    </tr>\n                    <tr>\n                        <td style=\"text-align: left;\">\n                            <strong>Nanny: </strong> tcp://127.0.0.1:32913\n                        </td>\n                        <td style=\"text-align: left;\"></td>\n                    </tr>\n                    <tr>\n                        <td colspan=\"2\" style=\"text-align: left;\">\n                            <strong>Local directory: </strong> /tmp/dask-worker-space/worker-m02a0igi\n                        </td>\n                    </tr>\n\n                    \n\n                    \n\n                </table>\n            </details>\n            </div>\n        </div>\n        \n        <div style=\"margin-bottom: 20px;\">\n            <div style=\"width: 24px; height: 24px; background-color: #DBF5FF; border: 3px solid #4CC9FF; border-radius: 5px; position: absolute;\"> </div>\n            <div style=\"margin-left: 48px;\">\n            <details>\n                <summary>\n                    <h4 style=\"margin-bottom: 0px; display: inline;\">Worker: 1</h4>\n                </summary>\n                <table style=\"width: 100%; text-align: left;\">\n                    <tr>\n                        <td style=\"text-align: left;\">\n                            <strong>Comm: </strong> tcp://127.0.0.1:33475\n                        </td>\n                        <td style=\"text-align: left;\">\n                            <strong>Total threads: </strong> 2\n                        </td>\n                    </tr>\n                    <tr>\n                        <td style=\"text-align: left;\">\n                            <strong>Dashboard: </strong> <a href=\"http://127.0.0.1:39487/status\" target=\"_blank\">http://127.0.0.1:39487/status</a>\n                        </td>\n                        <td style=\"text-align: left;\">\n                            <strong>Memory: </strong> 1.91 GiB\n                        </td>\n                    </tr>\n                    <tr>\n                        <td style=\"text-align: left;\">\n                            <strong>Nanny: </strong> tcp://127.0.0.1:36813\n                        </td>\n                        <td style=\"text-align: left;\"></td>\n                    </tr>\n                    <tr>\n                        <td colspan=\"2\" style=\"text-align: left;\">\n                            <strong>Local directory: </strong> /tmp/dask-worker-space/worker-0k5af0e1\n                        </td>\n                    </tr>\n\n                    \n\n                    \n\n                </table>\n            </details>\n            </div>\n        </div>\n        \n        <div style=\"margin-bottom: 20px;\">\n            <div style=\"width: 24px; height: 24px; background-color: #DBF5FF; border: 3px solid #4CC9FF; border-radius: 5px; position: absolute;\"> </div>\n            <div style=\"margin-left: 48px;\">\n            <details>\n                <summary>\n                    <h4 style=\"margin-bottom: 0px; display: inline;\">Worker: 2</h4>\n                </summary>\n                <table style=\"width: 100%; text-align: left;\">\n                    <tr>\n                        <td style=\"text-align: left;\">\n                            <strong>Comm: </strong> tcp://127.0.0.1:45649\n                        </td>\n                        <td style=\"text-align: left;\">\n                            <strong>Total threads: </strong> 2\n                        </td>\n                    </tr>\n                    <tr>\n                        <td style=\"text-align: left;\">\n                            <strong>Dashboard: </strong> <a href=\"http://127.0.0.1:43235/status\" target=\"_blank\">http://127.0.0.1:43235/status</a>\n                        </td>\n                        <td style=\"text-align: left;\">\n                            <strong>Memory: </strong> 1.91 GiB\n                        </td>\n                    </tr>\n                    <tr>\n                        <td style=\"text-align: left;\">\n                            <strong>Nanny: </strong> tcp://127.0.0.1:40301\n                        </td>\n                        <td style=\"text-align: left;\"></td>\n                    </tr>\n                    <tr>\n                        <td colspan=\"2\" style=\"text-align: left;\">\n                            <strong>Local directory: </strong> /tmp/dask-worker-space/worker-9rjvcitc\n                        </td>\n                    </tr>\n\n                    \n\n                    \n\n                </table>\n            </details>\n            </div>\n        </div>\n        \n        <div style=\"margin-bottom: 20px;\">\n            <div style=\"width: 24px; height: 24px; background-color: #DBF5FF; border: 3px solid #4CC9FF; border-radius: 5px; position: absolute;\"> </div>\n            <div style=\"margin-left: 48px;\">\n            <details>\n                <summary>\n                    <h4 style=\"margin-bottom: 0px; display: inline;\">Worker: 3</h4>\n                </summary>\n                <table style=\"width: 100%; text-align: left;\">\n                    <tr>\n                        <td style=\"text-align: left;\">\n                            <strong>Comm: </strong> tcp://127.0.0.1:40213\n                        </td>\n                        <td style=\"text-align: left;\">\n                            <strong>Total threads: </strong> 2\n                        </td>\n                    </tr>\n                    <tr>\n                        <td style=\"text-align: left;\">\n                            <strong>Dashboard: </strong> <a href=\"http://127.0.0.1:34947/status\" target=\"_blank\">http://127.0.0.1:34947/status</a>\n                        </td>\n                        <td style=\"text-align: left;\">\n                            <strong>Memory: </strong> 1.91 GiB\n                        </td>\n                    </tr>\n                    <tr>\n                        <td style=\"text-align: left;\">\n                            <strong>Nanny: </strong> tcp://127.0.0.1:43713\n                        </td>\n                        <td style=\"text-align: left;\"></td>\n                    </tr>\n                    <tr>\n                        <td colspan=\"2\" style=\"text-align: left;\">\n                            <strong>Local directory: </strong> /tmp/dask-worker-space/worker-lqif7_v5\n                        </td>\n                    </tr>\n\n                    \n\n                    \n\n                </table>\n            </details>\n            </div>\n        </div>\n        \n\n    </details>\n</div>\n\n        </details>\n    </div>\n</div>\n            </details>\n        \n\n    </div>\n</div>"
     },
     "execution_count": 1,
     "metadata": {},
     "output_type": "execute_result"
    }
   ],
   "source": [
    "import logging\n",
    "\n",
    "from dask.distributed import Client\n",
    "from dask import delayed, compute\n",
    "\n",
    "client = Client(threads_per_worker=2, n_workers=4,silence_logs=logging.ERROR)\n",
    "client"
   ],
   "metadata": {
    "collapsed": false,
    "pycharm": {
     "name": "#%%\n"
    }
   }
  },
  {
   "cell_type": "code",
   "execution_count": 2,
   "outputs": [],
   "source": [
    "import pandas as pd\n",
    "import numpy as np\n",
    "from sklearn.model_selection import train_test_split\n",
    "\n",
    "df = pd.read_csv('../dataset/processed_dataset/final_data_S1.csv')\n",
    "X = df.drop(['class'],axis=1)\n",
    "y = df['class']\n",
    "\n",
    "x_train, x_test, y_train, y_test = train_test_split(X, y, test_size=0.2, random_state=42, stratify=y)"
   ],
   "metadata": {
    "collapsed": false,
    "pycharm": {
     "name": "#%%\n"
    }
   }
  },
  {
   "cell_type": "code",
   "execution_count": null,
   "outputs": [],
   "source": [
    "def check_param(param_list):\n",
    "    if param_list['solver'] in ['newton-cg', 'lbfgs', 'sag']:\n",
    "        return param_list['penalty'] in ['l2', 'none']\n",
    "    elif param_list['solver'] in ['liblinear']:\n",
    "        return if param_list['penalty'] in ['l1', 'l2']\n",
    "    elif param_list['solver'] in ['saga']:\n",
    "        return if param_list['penalty'] in ['l1', 'l2', 'elasticnet','none']"
   ],
   "metadata": {
    "collapsed": false,
    "pycharm": {
     "name": "#%%\n"
    }
   }
  },
  {
   "cell_type": "code",
   "execution_count": null,
   "outputs": [],
   "source": [
    "param_list ={\n",
    "    'penalty': ['l1', 'l2', 'none'],\n",
    "    'C': [0.1, 1, 10, 100, 1000],\n",
    "    'tol': [1e-4, 1e-3, 1e-2, 1e-1, 1],\n",
    "    'solver': ['saga', 'liblinear'],\n",
    "}\n",
    "\n",
    "from sklearn.model_selection import ParameterGrid\n",
    "param_dict = ParameterGrid(param_list)\n",
    "\n",
    "print(len(list(param_dict)))\n",
    "\n",
    "def RandomCV(param_list,n=100):\n",
    "    import random\n",
    "    return (item for item in random.sample(list(param_list),n))"
   ],
   "metadata": {
    "collapsed": false,
    "pycharm": {
     "name": "#%%\n"
    }
   }
  },
  {
   "cell_type": "code",
   "execution_count": null,
   "outputs": [],
   "source": [
    "from sklearn.linear_model import LogisticRegression\n",
    "from sklearn.metrics import accuracy_score\n",
    "\n",
    "# Testing every combination of parameters with train_6 and test_6\n",
    "@delayed\n",
    "def run_model(param):\n",
    "    if check_param(param):\n",
    "        model_obj = LogisticRegression(**param, max_iter=1000)\n",
    "        model_obj.fit(x_train, y_train)\n",
    "        param.update({\n",
    "            \"score\":accuracy_score(y_test, model_obj.predict(x_test))\n",
    "                      })\n",
    "        return pd.DataFrame(param,index=[0]).iloc[0:1,:]\n",
    "    else:\n",
    "        print(param, \"is not valid\")\n",
    "\n",
    "# create dask parallel function to run xgb\n",
    "dfs = (run_model(each) for each in param_dict)\n",
    "value = compute(dfs,num_workers=4)\n",
    "#\n",
    "final = pd.concat(value[0])\n",
    "value = []\n",
    "final.reset_index(drop=True,inplace=True)\n",
    "# not_used = ['n_jobs']\n",
    "# final.drop(not_used,axis=1,inplace=True)"
   ],
   "metadata": {
    "collapsed": false,
    "pycharm": {
     "name": "#%%\n"
    }
   }
  },
  {
   "cell_type": "code",
   "execution_count": null,
   "outputs": [],
   "source": [
    "from sklearn.linear_model import LogisticRegression\n",
    "from sklearn.metrics import accuracy_score\n",
    "\n",
    "# Testing every combination of parameters with train_6 and test_6\n",
    "@delayed\n",
    "def run_model(param):\n",
    "    if check_param(param):\n",
    "        model_obj = LogisticRegression(**param, max_iter=1000)\n",
    "        model_obj.fit(x_train, y_train)\n",
    "        param.update({\n",
    "            \"score\":accuracy_score(y_test, model_obj.predict(x_test))\n",
    "                      })\n",
    "        return pd.DataFrame(param,index=[0]).iloc[0:1,:]\n",
    "    else:\n",
    "        print(param, \"is not valid\")\n",
    "\n",
    "# create dask parallel function to run xgb\n",
    "dfs = (run_model(each) for each in param_dict)\n",
    "value = compute(dfs,num_workers=4)\n",
    "#\n",
    "final = pd.concat(value[0])\n",
    "value = []\n",
    "final.reset_index(drop=True,inplace=True)\n",
    "# not_used = ['n_jobs']\n",
    "# final.drop(not_used,axis=1,inplace=True)"
   ],
   "metadata": {
    "collapsed": false,
    "pycharm": {
     "name": "#%%\n",
     "is_executing": true
    }
   }
  },
  {
   "cell_type": "code",
   "execution_count": 10,
   "outputs": [],
   "source": [
    "client.close()"
   ],
   "metadata": {
    "collapsed": false,
    "pycharm": {
     "name": "#%%\n"
    }
   }
  },
  {
   "cell_type": "code",
   "execution_count": 11,
   "outputs": [
    {
     "data": {
      "text/plain": "          C penalty solver     tol     score\n0       0.1      l1   saga  0.0001  0.750000\n1       0.1      l1   saga  0.0010  0.750000\n2       0.1      l1   saga  0.0100  0.750000\n3       0.1      l1   saga  0.1000  0.750000\n4       0.1      l1   saga  1.0000  0.782895\n..      ...     ...    ...     ...       ...\n120  1000.0    none   saga  0.0001  0.763158\n121  1000.0    none   saga  0.0010  0.763158\n122  1000.0    none   saga  0.0100  0.763158\n123  1000.0    none   saga  0.1000  0.802632\n124  1000.0    none   saga  1.0000  0.782895\n\n[125 rows x 5 columns]",
      "text/html": "<div>\n<style scoped>\n    .dataframe tbody tr th:only-of-type {\n        vertical-align: middle;\n    }\n\n    .dataframe tbody tr th {\n        vertical-align: top;\n    }\n\n    .dataframe thead th {\n        text-align: right;\n    }\n</style>\n<table border=\"1\" class=\"dataframe\">\n  <thead>\n    <tr style=\"text-align: right;\">\n      <th></th>\n      <th>C</th>\n      <th>penalty</th>\n      <th>solver</th>\n      <th>tol</th>\n      <th>score</th>\n    </tr>\n  </thead>\n  <tbody>\n    <tr>\n      <th>0</th>\n      <td>0.1</td>\n      <td>l1</td>\n      <td>saga</td>\n      <td>0.0001</td>\n      <td>0.750000</td>\n    </tr>\n    <tr>\n      <th>1</th>\n      <td>0.1</td>\n      <td>l1</td>\n      <td>saga</td>\n      <td>0.0010</td>\n      <td>0.750000</td>\n    </tr>\n    <tr>\n      <th>2</th>\n      <td>0.1</td>\n      <td>l1</td>\n      <td>saga</td>\n      <td>0.0100</td>\n      <td>0.750000</td>\n    </tr>\n    <tr>\n      <th>3</th>\n      <td>0.1</td>\n      <td>l1</td>\n      <td>saga</td>\n      <td>0.1000</td>\n      <td>0.750000</td>\n    </tr>\n    <tr>\n      <th>4</th>\n      <td>0.1</td>\n      <td>l1</td>\n      <td>saga</td>\n      <td>1.0000</td>\n      <td>0.782895</td>\n    </tr>\n    <tr>\n      <th>...</th>\n      <td>...</td>\n      <td>...</td>\n      <td>...</td>\n      <td>...</td>\n      <td>...</td>\n    </tr>\n    <tr>\n      <th>120</th>\n      <td>1000.0</td>\n      <td>none</td>\n      <td>saga</td>\n      <td>0.0001</td>\n      <td>0.763158</td>\n    </tr>\n    <tr>\n      <th>121</th>\n      <td>1000.0</td>\n      <td>none</td>\n      <td>saga</td>\n      <td>0.0010</td>\n      <td>0.763158</td>\n    </tr>\n    <tr>\n      <th>122</th>\n      <td>1000.0</td>\n      <td>none</td>\n      <td>saga</td>\n      <td>0.0100</td>\n      <td>0.763158</td>\n    </tr>\n    <tr>\n      <th>123</th>\n      <td>1000.0</td>\n      <td>none</td>\n      <td>saga</td>\n      <td>0.1000</td>\n      <td>0.802632</td>\n    </tr>\n    <tr>\n      <th>124</th>\n      <td>1000.0</td>\n      <td>none</td>\n      <td>saga</td>\n      <td>1.0000</td>\n      <td>0.782895</td>\n    </tr>\n  </tbody>\n</table>\n<p>125 rows × 5 columns</p>\n</div>"
     },
     "execution_count": 11,
     "metadata": {},
     "output_type": "execute_result"
    }
   ],
   "source": [
    "final"
   ],
   "metadata": {
    "collapsed": false,
    "pycharm": {
     "name": "#%%\n"
    }
   }
  },
  {
   "cell_type": "code",
   "execution_count": 1,
   "outputs": [
    {
     "name": "stdout",
     "output_type": "stream",
     "text": [
      "Collecting dask_saturn\r\n",
      "  Downloading dask_saturn-0.4.1-py3-none-any.whl (16 kB)\r\n",
      "Collecting requests\r\n",
      "  Downloading requests-2.28.1-py3-none-any.whl (62 kB)\r\n",
      "\u001B[2K     \u001B[90m━━━━━━━━━━━━━━━━━━━━━━━━━━━━━━━━━━━━━━━\u001B[0m \u001B[32m62.8/62.8 kB\u001B[0m \u001B[31m134.9 kB/s\u001B[0m eta \u001B[36m0:00:00\u001B[0ma \u001B[36m0:00:01\u001B[0m\r\n",
      "\u001B[?25hRequirement already satisfied: distributed in /home/shailesh/Desktop/fuse-project-1/venv/lib/python3.8/site-packages (from dask_saturn) (2022.6.1)\r\n",
      "Collecting cryptography\r\n",
      "  Downloading cryptography-37.0.4-cp36-abi3-manylinux_2_24_x86_64.whl (4.1 MB)\r\n",
      "\u001B[2K     \u001B[90m━━━━━━━━━━━━━━━━━━━━━━━━━━━━━━━━━━━━━━━━\u001B[0m \u001B[32m4.1/4.1 MB\u001B[0m \u001B[31m352.7 kB/s\u001B[0m eta \u001B[36m0:00:00\u001B[0m00:01\u001B[0m00:01\u001B[0m\r\n",
      "\u001B[?25hRequirement already satisfied: cffi>=1.12 in /home/shailesh/Desktop/fuse-project-1/venv/lib/python3.8/site-packages (from cryptography->dask_saturn) (1.15.0)\r\n",
      "Requirement already satisfied: tornado>=6.0.3 in /home/shailesh/Desktop/fuse-project-1/venv/lib/python3.8/site-packages (from distributed->dask_saturn) (6.1)\r\n",
      "Requirement already satisfied: cloudpickle>=1.5.0 in /home/shailesh/Desktop/fuse-project-1/venv/lib/python3.8/site-packages (from distributed->dask_saturn) (2.1.0)\r\n",
      "Requirement already satisfied: packaging>=20.0 in /home/shailesh/Desktop/fuse-project-1/venv/lib/python3.8/site-packages (from distributed->dask_saturn) (21.3)\r\n",
      "Requirement already satisfied: dask==2022.6.1 in /home/shailesh/Desktop/fuse-project-1/venv/lib/python3.8/site-packages (from distributed->dask_saturn) (2022.6.1)\r\n",
      "Requirement already satisfied: click>=6.6 in /home/shailesh/Desktop/fuse-project-1/venv/lib/python3.8/site-packages (from distributed->dask_saturn) (8.1.3)\r\n",
      "Requirement already satisfied: msgpack>=0.6.0 in /home/shailesh/Desktop/fuse-project-1/venv/lib/python3.8/site-packages (from distributed->dask_saturn) (1.0.4)\r\n",
      "Requirement already satisfied: sortedcontainers!=2.0.0,!=2.0.1 in /home/shailesh/Desktop/fuse-project-1/venv/lib/python3.8/site-packages (from distributed->dask_saturn) (2.4.0)\r\n",
      "Requirement already satisfied: toolz>=0.8.2 in /home/shailesh/Desktop/fuse-project-1/venv/lib/python3.8/site-packages (from distributed->dask_saturn) (0.11.2)\r\n",
      "Requirement already satisfied: locket>=1.0.0 in /home/shailesh/Desktop/fuse-project-1/venv/lib/python3.8/site-packages (from distributed->dask_saturn) (1.0.0)\r\n",
      "Requirement already satisfied: urllib3 in /home/shailesh/Desktop/fuse-project-1/venv/lib/python3.8/site-packages (from distributed->dask_saturn) (1.26.9)\r\n",
      "Requirement already satisfied: zict>=0.1.3 in /home/shailesh/Desktop/fuse-project-1/venv/lib/python3.8/site-packages (from distributed->dask_saturn) (2.2.0)\r\n",
      "Requirement already satisfied: jinja2 in /home/shailesh/Desktop/fuse-project-1/venv/lib/python3.8/site-packages (from distributed->dask_saturn) (3.1.2)\r\n",
      "Requirement already satisfied: psutil>=5.0 in /home/shailesh/Desktop/fuse-project-1/venv/lib/python3.8/site-packages (from distributed->dask_saturn) (5.9.1)\r\n",
      "Requirement already satisfied: tblib>=1.6.0 in /home/shailesh/Desktop/fuse-project-1/venv/lib/python3.8/site-packages (from distributed->dask_saturn) (1.7.0)\r\n",
      "Requirement already satisfied: pyyaml in /home/shailesh/Desktop/fuse-project-1/venv/lib/python3.8/site-packages (from distributed->dask_saturn) (6.0)\r\n",
      "Requirement already satisfied: partd>=0.3.10 in /home/shailesh/Desktop/fuse-project-1/venv/lib/python3.8/site-packages (from dask==2022.6.1->distributed->dask_saturn) (1.2.0)\r\n",
      "Requirement already satisfied: fsspec>=0.6.0 in /home/shailesh/Desktop/fuse-project-1/venv/lib/python3.8/site-packages (from dask==2022.6.1->distributed->dask_saturn) (2022.5.0)\r\n",
      "Collecting charset-normalizer<3,>=2\r\n",
      "  Downloading charset_normalizer-2.1.0-py3-none-any.whl (39 kB)\r\n",
      "Collecting certifi>=2017.4.17\r\n",
      "  Downloading certifi-2022.6.15-py3-none-any.whl (160 kB)\r\n",
      "\u001B[2K     \u001B[90m━━━━━━━━━━━━━━━━━━━━━━━━━━━━━━━━━━━━━\u001B[0m \u001B[32m160.2/160.2 kB\u001B[0m \u001B[31m461.4 kB/s\u001B[0m eta \u001B[36m0:00:00\u001B[0ma \u001B[36m0:00:01\u001B[0m\r\n",
      "\u001B[?25hCollecting idna<4,>=2.5\r\n",
      "  Using cached idna-3.3-py3-none-any.whl (61 kB)\r\n",
      "Requirement already satisfied: pycparser in /home/shailesh/Desktop/fuse-project-1/venv/lib/python3.8/site-packages (from cffi>=1.12->cryptography->dask_saturn) (2.21)\r\n",
      "Requirement already satisfied: pyparsing!=3.0.5,>=2.0.2 in /home/shailesh/Desktop/fuse-project-1/venv/lib/python3.8/site-packages (from packaging>=20.0->distributed->dask_saturn) (3.0.9)\r\n",
      "Requirement already satisfied: heapdict in /home/shailesh/Desktop/fuse-project-1/venv/lib/python3.8/site-packages (from zict>=0.1.3->distributed->dask_saturn) (1.0.1)\r\n",
      "Requirement already satisfied: MarkupSafe>=2.0 in /home/shailesh/Desktop/fuse-project-1/venv/lib/python3.8/site-packages (from jinja2->distributed->dask_saturn) (2.1.1)\r\n",
      "Installing collected packages: idna, charset-normalizer, certifi, requests, cryptography, dask_saturn\r\n",
      "Successfully installed certifi-2022.6.15 charset-normalizer-2.1.0 cryptography-37.0.4 dask_saturn-0.4.1 idna-3.3 requests-2.28.1\r\n"
     ]
    }
   ],
   "source": [
    "!pip install dask_saturn"
   ],
   "metadata": {
    "collapsed": false,
    "pycharm": {
     "name": "#%%\n"
    }
   }
  },
  {
   "cell_type": "code",
   "execution_count": 2,
   "outputs": [
    {
     "ename": "RuntimeError",
     "evalue": "Missing required environment variable SATURN_BASE_URL.",
     "output_type": "error",
     "traceback": [
      "\u001B[0;31m---------------------------------------------------------------------------\u001B[0m",
      "\u001B[0;31mKeyError\u001B[0m                                  Traceback (most recent call last)",
      "File \u001B[0;32m~/Desktop/fuse-project-1/venv/lib/python3.8/site-packages/dask_saturn/settings.py:23\u001B[0m, in \u001B[0;36mSettings.__init__\u001B[0;34m(self)\u001B[0m\n\u001B[1;32m     22\u001B[0m \u001B[38;5;28;01mtry\u001B[39;00m:\n\u001B[0;32m---> 23\u001B[0m     \u001B[38;5;28mself\u001B[39m\u001B[38;5;241m.\u001B[39mSATURN_BASE_URL \u001B[38;5;241m=\u001B[39m \u001B[43mos\u001B[49m\u001B[38;5;241;43m.\u001B[39;49m\u001B[43menviron\u001B[49m\u001B[43m[\u001B[49m\u001B[38;5;124;43m\"\u001B[39;49m\u001B[38;5;124;43mSATURN_BASE_URL\u001B[39;49m\u001B[38;5;124;43m\"\u001B[39;49m\u001B[43m]\u001B[49m\n\u001B[1;32m     24\u001B[0m \u001B[38;5;28;01mexcept\u001B[39;00m \u001B[38;5;167;01mKeyError\u001B[39;00m \u001B[38;5;28;01mas\u001B[39;00m err:\n",
      "File \u001B[0;32m/usr/lib/python3.8/os.py:675\u001B[0m, in \u001B[0;36m_Environ.__getitem__\u001B[0;34m(self, key)\u001B[0m\n\u001B[1;32m    673\u001B[0m \u001B[38;5;28;01mexcept\u001B[39;00m \u001B[38;5;167;01mKeyError\u001B[39;00m:\n\u001B[1;32m    674\u001B[0m     \u001B[38;5;66;03m# raise KeyError with the original key value\u001B[39;00m\n\u001B[0;32m--> 675\u001B[0m     \u001B[38;5;28;01mraise\u001B[39;00m \u001B[38;5;167;01mKeyError\u001B[39;00m(key) \u001B[38;5;28;01mfrom\u001B[39;00m \u001B[38;5;28mNone\u001B[39m\n\u001B[1;32m    676\u001B[0m \u001B[38;5;28;01mreturn\u001B[39;00m \u001B[38;5;28mself\u001B[39m\u001B[38;5;241m.\u001B[39mdecodevalue(value)\n",
      "\u001B[0;31mKeyError\u001B[0m: 'SATURN_BASE_URL'",
      "\nThe above exception was the direct cause of the following exception:\n",
      "\u001B[0;31mRuntimeError\u001B[0m                              Traceback (most recent call last)",
      "Input \u001B[0;32mIn [2]\u001B[0m, in \u001B[0;36m<cell line: 8>\u001B[0;34m()\u001B[0m\n\u001B[1;32m      5\u001B[0m SATURN_BASE_URL \u001B[38;5;241m=\u001B[39m \u001B[38;5;124m\"\u001B[39m\u001B[38;5;124mhttps://app.community.saturnenterprise.io\u001B[39m\u001B[38;5;124m\"\u001B[39m\n\u001B[1;32m      6\u001B[0m SATURN_TOKEN \u001B[38;5;241m=\u001B[39m \u001B[38;5;124m\"\u001B[39m\u001B[38;5;124mserver-4bb72059c7f749af8e03e697f9926845\u001B[39m\u001B[38;5;124m\"\u001B[39m\n\u001B[0;32m----> 8\u001B[0m cluster \u001B[38;5;241m=\u001B[39m \u001B[43mSaturnCluster\u001B[49m\u001B[43m(\u001B[49m\u001B[43mbase_url\u001B[49m\u001B[38;5;241;43m=\u001B[39;49m\u001B[43mSATURN_BASE_URL\u001B[49m\u001B[43m,\u001B[49m\u001B[43m \u001B[49m\u001B[43mtoken\u001B[49m\u001B[38;5;241;43m=\u001B[39;49m\u001B[43mSATURN_TOKEN\u001B[49m\u001B[43m)\u001B[49m\n\u001B[1;32m      9\u001B[0m client \u001B[38;5;241m=\u001B[39m Client(cluster)\n\u001B[1;32m     10\u001B[0m client\n",
      "File \u001B[0;32m~/Desktop/fuse-project-1/venv/lib/python3.8/site-packages/dask_saturn/core.py:108\u001B[0m, in \u001B[0;36mSaturnCluster.__init__\u001B[0;34m(self, n_workers, cluster_url, worker_size, worker_is_spot, scheduler_size, nprocs, nthreads, scheduler_service_wait_timeout, shutdown_on_close, *args, **kwargs)\u001B[0m\n\u001B[1;32m    101\u001B[0m     warnings\u001B[38;5;241m.\u001B[39mwarn(\n\u001B[1;32m    102\u001B[0m         \u001B[38;5;124m\"\u001B[39m\u001B[38;5;124m``autoclose`` has been deprecated and will be removed in a future version. \u001B[39m\u001B[38;5;124m\"\u001B[39m\n\u001B[1;32m    103\u001B[0m         \u001B[38;5;124m\"\u001B[39m\u001B[38;5;124mPlease use ``shutdown_on_close`` instead.\u001B[39m\u001B[38;5;124m\"\u001B[39m,\n\u001B[1;32m    104\u001B[0m         category\u001B[38;5;241m=\u001B[39m\u001B[38;5;167;01mFutureWarning\u001B[39;00m,\n\u001B[1;32m    105\u001B[0m     )\n\u001B[1;32m    106\u001B[0m     shutdown_on_close \u001B[38;5;241m=\u001B[39m kwargs\u001B[38;5;241m.\u001B[39mpop(\u001B[38;5;124m\"\u001B[39m\u001B[38;5;124mautoclose\u001B[39m\u001B[38;5;124m\"\u001B[39m)\n\u001B[0;32m--> 108\u001B[0m \u001B[38;5;28mself\u001B[39m\u001B[38;5;241m.\u001B[39msettings \u001B[38;5;241m=\u001B[39m \u001B[43mSettings\u001B[49m\u001B[43m(\u001B[49m\u001B[43m)\u001B[49m\n\u001B[1;32m    110\u001B[0m \u001B[38;5;28;01mif\u001B[39;00m \u001B[38;5;28mself\u001B[39m\u001B[38;5;241m.\u001B[39msettings\u001B[38;5;241m.\u001B[39mis_prefect:\n\u001B[1;32m    111\u001B[0m     \u001B[38;5;66;03m# defaults to True if related to prefect, else defaults to False\u001B[39;00m\n\u001B[1;32m    112\u001B[0m     shutdown_on_close \u001B[38;5;241m=\u001B[39m \u001B[38;5;28;01mTrue\u001B[39;00m\n",
      "File \u001B[0;32m~/Desktop/fuse-project-1/venv/lib/python3.8/site-packages/dask_saturn/settings.py:35\u001B[0m, in \u001B[0;36mSettings.__init__\u001B[0;34m(self)\u001B[0m\n\u001B[1;32m     32\u001B[0m         \u001B[38;5;28;01mraise\u001B[39;00m \u001B[38;5;167;01mRuntimeError\u001B[39;00m(err_msg) \u001B[38;5;28;01mfrom\u001B[39;00m \u001B[38;5;21;01merr\u001B[39;00m\n\u001B[1;32m     34\u001B[0m     err_msg \u001B[38;5;241m=\u001B[39m \u001B[38;5;124m\"\u001B[39m\u001B[38;5;124mMissing required environment variable SATURN_BASE_URL.\u001B[39m\u001B[38;5;124m\"\u001B[39m\n\u001B[0;32m---> 35\u001B[0m     \u001B[38;5;28;01mraise\u001B[39;00m \u001B[38;5;167;01mRuntimeError\u001B[39;00m(err_msg) \u001B[38;5;28;01mfrom\u001B[39;00m \u001B[38;5;21;01merr\u001B[39;00m\n\u001B[1;32m     37\u001B[0m parsed \u001B[38;5;241m=\u001B[39m urlparse(\u001B[38;5;28mself\u001B[39m\u001B[38;5;241m.\u001B[39mSATURN_BASE_URL)\n\u001B[1;32m     38\u001B[0m \u001B[38;5;28;01mif\u001B[39;00m \u001B[38;5;129;01mnot\u001B[39;00m parsed\u001B[38;5;241m.\u001B[39mscheme \u001B[38;5;129;01mor\u001B[39;00m \u001B[38;5;129;01mnot\u001B[39;00m parsed\u001B[38;5;241m.\u001B[39mnetloc:\n",
      "\u001B[0;31mRuntimeError\u001B[0m: Missing required environment variable SATURN_BASE_URL."
     ]
    }
   ],
   "source": [
    "from dask_saturn import SaturnCluster\n",
    "from dask.distributed import Client\n",
    "from dask import delayed, compute\n",
    "\n",
    "import os\n",
    "os.environ['SATURN_BASE_URL'] = \"https://app.community.saturnenterprise.io\"\n",
    "os.environ['SATURN_TOKEN'] = \"server-4bb72059c7f749af8e03e697f9926845\"\n",
    "\n",
    "cluster = SaturnCluster()\n",
    "client = Client(cluster)\n",
    "client"
   ],
   "metadata": {
    "collapsed": false,
    "pycharm": {
     "name": "#%%\n"
    }
   }
  },
  {
   "cell_type": "code",
   "execution_count": 2,
   "outputs": [],
   "source": [],
   "metadata": {
    "collapsed": false,
    "pycharm": {
     "name": "#%%pip list\n"
    }
   }
  },
  {
   "cell_type": "code",
   "execution_count": null,
   "outputs": [],
   "source": [],
   "metadata": {
    "collapsed": false,
    "pycharm": {
     "name": "#%%\n"
    }
   }
  }
 ],
 "metadata": {
  "kernelspec": {
   "display_name": "Python 3",
   "language": "python",
   "name": "python3"
  },
  "language_info": {
   "codemirror_mode": {
    "name": "ipython",
    "version": 2
   },
   "file_extension": ".py",
   "mimetype": "text/x-python",
   "name": "python",
   "nbconvert_exporter": "python",
   "pygments_lexer": "ipython2",
   "version": "2.7.6"
  }
 },
 "nbformat": 4,
 "nbformat_minor": 0
}