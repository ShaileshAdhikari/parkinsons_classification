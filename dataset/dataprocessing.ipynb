{
 "cells": [
  {
   "cell_type": "code",
   "execution_count": 1,
   "outputs": [],
   "source": [
    "import pandas as pd\n",
    "import numpy as np"
   ],
   "metadata": {
    "collapsed": false,
    "pycharm": {
     "name": "#%%\n"
    }
   }
  },
  {
   "cell_type": "code",
   "execution_count": 50,
   "outputs": [
    {
     "data": {
      "text/plain": "(756, 755)"
     },
     "execution_count": 50,
     "metadata": {},
     "output_type": "execute_result"
    }
   ],
   "source": [
    "filename = '/home/shailesh/Desktop/fuse-project-1/dataset/orginal_dataset/pd_speech_features.csv'\n",
    "dataframe = pd.read_csv(filename)\n",
    "dataframe.shape"
   ],
   "metadata": {
    "collapsed": false,
    "pycharm": {
     "name": "#%%\n"
    }
   }
  },
  {
   "cell_type": "code",
   "execution_count": 51,
   "outputs": [
    {
     "data": {
      "text/plain": "   id  gender      PPE      DFA     RPDE  numPulses  numPeriodsPulses  \\\n0   0       1  0.85247  0.71826  0.57227        240               239   \n1   0       1  0.76686  0.69481  0.53966        234               233   \n2   0       1  0.85083  0.67604  0.58982        232               231   \n3   1       0  0.41121  0.79672  0.59257        178               177   \n4   1       0  0.32790  0.79782  0.53028        236               235   \n\n   meanPeriodPulses  stdDevPeriodPulses  locPctJitter  ...  \\\n0          0.008064            0.000087       0.00218  ...   \n1          0.008258            0.000073       0.00195  ...   \n2          0.008340            0.000060       0.00176  ...   \n3          0.010858            0.000183       0.00419  ...   \n4          0.008162            0.002669       0.00535  ...   \n\n   tqwt_kurtosisValue_dec_28  tqwt_kurtosisValue_dec_29  \\\n0                     1.5620                     2.6445   \n1                     1.5589                     3.6107   \n2                     1.5643                     2.3308   \n3                     3.7805                     3.5664   \n4                     6.1727                     5.8416   \n\n   tqwt_kurtosisValue_dec_30  tqwt_kurtosisValue_dec_31  \\\n0                     3.8686                     4.2105   \n1                    23.5155                    14.1962   \n2                     9.4959                    10.7458   \n3                     5.2558                    14.0403   \n4                     6.0805                     5.7621   \n\n   tqwt_kurtosisValue_dec_32  tqwt_kurtosisValue_dec_33  \\\n0                     5.1221                     4.4625   \n1                    11.0261                     9.5082   \n2                    11.0177                     4.8066   \n3                     4.2235                     4.6857   \n4                     7.7817                    11.6891   \n\n   tqwt_kurtosisValue_dec_34  tqwt_kurtosisValue_dec_35  \\\n0                     2.6202                     3.0004   \n1                     6.5245                     6.3431   \n2                     2.9199                     3.1495   \n3                     4.8460                     6.2650   \n4                     8.2103                     5.0559   \n\n   tqwt_kurtosisValue_dec_36  class  \n0                    18.9405      1  \n1                    45.1780      1  \n2                     4.7666      1  \n3                     4.0603      1  \n4                     6.1164      1  \n\n[5 rows x 755 columns]",
      "text/html": "<div>\n<style scoped>\n    .dataframe tbody tr th:only-of-type {\n        vertical-align: middle;\n    }\n\n    .dataframe tbody tr th {\n        vertical-align: top;\n    }\n\n    .dataframe thead th {\n        text-align: right;\n    }\n</style>\n<table border=\"1\" class=\"dataframe\">\n  <thead>\n    <tr style=\"text-align: right;\">\n      <th></th>\n      <th>id</th>\n      <th>gender</th>\n      <th>PPE</th>\n      <th>DFA</th>\n      <th>RPDE</th>\n      <th>numPulses</th>\n      <th>numPeriodsPulses</th>\n      <th>meanPeriodPulses</th>\n      <th>stdDevPeriodPulses</th>\n      <th>locPctJitter</th>\n      <th>...</th>\n      <th>tqwt_kurtosisValue_dec_28</th>\n      <th>tqwt_kurtosisValue_dec_29</th>\n      <th>tqwt_kurtosisValue_dec_30</th>\n      <th>tqwt_kurtosisValue_dec_31</th>\n      <th>tqwt_kurtosisValue_dec_32</th>\n      <th>tqwt_kurtosisValue_dec_33</th>\n      <th>tqwt_kurtosisValue_dec_34</th>\n      <th>tqwt_kurtosisValue_dec_35</th>\n      <th>tqwt_kurtosisValue_dec_36</th>\n      <th>class</th>\n    </tr>\n  </thead>\n  <tbody>\n    <tr>\n      <th>0</th>\n      <td>0</td>\n      <td>1</td>\n      <td>0.85247</td>\n      <td>0.71826</td>\n      <td>0.57227</td>\n      <td>240</td>\n      <td>239</td>\n      <td>0.008064</td>\n      <td>0.000087</td>\n      <td>0.00218</td>\n      <td>...</td>\n      <td>1.5620</td>\n      <td>2.6445</td>\n      <td>3.8686</td>\n      <td>4.2105</td>\n      <td>5.1221</td>\n      <td>4.4625</td>\n      <td>2.6202</td>\n      <td>3.0004</td>\n      <td>18.9405</td>\n      <td>1</td>\n    </tr>\n    <tr>\n      <th>1</th>\n      <td>0</td>\n      <td>1</td>\n      <td>0.76686</td>\n      <td>0.69481</td>\n      <td>0.53966</td>\n      <td>234</td>\n      <td>233</td>\n      <td>0.008258</td>\n      <td>0.000073</td>\n      <td>0.00195</td>\n      <td>...</td>\n      <td>1.5589</td>\n      <td>3.6107</td>\n      <td>23.5155</td>\n      <td>14.1962</td>\n      <td>11.0261</td>\n      <td>9.5082</td>\n      <td>6.5245</td>\n      <td>6.3431</td>\n      <td>45.1780</td>\n      <td>1</td>\n    </tr>\n    <tr>\n      <th>2</th>\n      <td>0</td>\n      <td>1</td>\n      <td>0.85083</td>\n      <td>0.67604</td>\n      <td>0.58982</td>\n      <td>232</td>\n      <td>231</td>\n      <td>0.008340</td>\n      <td>0.000060</td>\n      <td>0.00176</td>\n      <td>...</td>\n      <td>1.5643</td>\n      <td>2.3308</td>\n      <td>9.4959</td>\n      <td>10.7458</td>\n      <td>11.0177</td>\n      <td>4.8066</td>\n      <td>2.9199</td>\n      <td>3.1495</td>\n      <td>4.7666</td>\n      <td>1</td>\n    </tr>\n    <tr>\n      <th>3</th>\n      <td>1</td>\n      <td>0</td>\n      <td>0.41121</td>\n      <td>0.79672</td>\n      <td>0.59257</td>\n      <td>178</td>\n      <td>177</td>\n      <td>0.010858</td>\n      <td>0.000183</td>\n      <td>0.00419</td>\n      <td>...</td>\n      <td>3.7805</td>\n      <td>3.5664</td>\n      <td>5.2558</td>\n      <td>14.0403</td>\n      <td>4.2235</td>\n      <td>4.6857</td>\n      <td>4.8460</td>\n      <td>6.2650</td>\n      <td>4.0603</td>\n      <td>1</td>\n    </tr>\n    <tr>\n      <th>4</th>\n      <td>1</td>\n      <td>0</td>\n      <td>0.32790</td>\n      <td>0.79782</td>\n      <td>0.53028</td>\n      <td>236</td>\n      <td>235</td>\n      <td>0.008162</td>\n      <td>0.002669</td>\n      <td>0.00535</td>\n      <td>...</td>\n      <td>6.1727</td>\n      <td>5.8416</td>\n      <td>6.0805</td>\n      <td>5.7621</td>\n      <td>7.7817</td>\n      <td>11.6891</td>\n      <td>8.2103</td>\n      <td>5.0559</td>\n      <td>6.1164</td>\n      <td>1</td>\n    </tr>\n  </tbody>\n</table>\n<p>5 rows × 755 columns</p>\n</div>"
     },
     "execution_count": 51,
     "metadata": {},
     "output_type": "execute_result"
    }
   ],
   "source": [
    "dataframe.head()"
   ],
   "metadata": {
    "collapsed": false,
    "pycharm": {
     "name": "#%%\n"
    }
   }
  },
  {
   "cell_type": "markdown",
   "source": [
    "Baseline Features: Column-3 to Column-23\n",
    "Intensity Parameters: Col24 to Col26\n",
    "Formant Frequencies: Col27 to Col30\n",
    "Bandwidth Parameters: Col31 to Col34\n",
    "Vocal Fold: Col35 to Col56\n",
    "MFCC: Col57 to Col140\n",
    "Wavelet Features: Col141 to Col322\n",
    "TQWT Features: Col323 to Col754\n",
    "Class: Col755\n",
    "\n",
    "Research Page: 6 - 9"
   ],
   "metadata": {
    "collapsed": false,
    "pycharm": {
     "name": "#%% md\n"
    }
   }
  },
  {
   "cell_type": "code",
   "execution_count": 4,
   "outputs": [],
   "source": [
    "baseline = dataframe.iloc[:,2:23]\n",
    "intensity = dataframe.iloc[:,23:26]\n",
    "frequency = dataframe.iloc[:,26:30]\n",
    "bandwidth = dataframe.iloc[:,30:34]\n",
    "vocal = dataframe.iloc[:,34:56]\n",
    "mfcc = dataframe.iloc[:,56:140]\n",
    "wavelet = dataframe.iloc[:,140:322]\n",
    "tqwt = dataframe.iloc[:,322:754]\n",
    "y = dataframe.iloc[:,754:755]"
   ],
   "metadata": {
    "collapsed": false,
    "pycharm": {
     "name": "#%%\n"
    }
   }
  },
  {
   "cell_type": "markdown",
   "source": [
    "---"
   ],
   "metadata": {
    "collapsed": false,
    "pycharm": {
     "name": "#%% md\n"
    }
   }
  },
  {
   "cell_type": "markdown",
   "source": [
    "## Baseline Columns"
   ],
   "metadata": {
    "collapsed": false,
    "pycharm": {
     "name": "#%% md\n"
    }
   }
  },
  {
   "cell_type": "code",
   "execution_count": 30,
   "outputs": [],
   "source": [
    "mean_value_columns = [cols for cols in baseline.columns if cols.__contains__('mean')]\n",
    "std_value_columns = [cols for cols in baseline.columns if cols.__contains__('std')]\n",
    "other_columns = list(set(baseline.columns) - set(mean_value_columns) - set(std_value_columns))"
   ],
   "metadata": {
    "collapsed": false,
    "pycharm": {
     "name": "#%%\n"
    }
   }
  },
  {
   "cell_type": "code",
   "execution_count": 32,
   "outputs": [
    {
     "data": {
      "text/plain": "(21, 16)"
     },
     "execution_count": 32,
     "metadata": {},
     "output_type": "execute_result"
    }
   ],
   "source": [
    "len(baseline.columns) , len(other_columns)"
   ],
   "metadata": {
    "collapsed": false,
    "pycharm": {
     "name": "#%%\n"
    }
   }
  },
  {
   "cell_type": "code",
   "execution_count": 43,
   "outputs": [
    {
     "data": {
      "text/plain": "['apq11Shimmer',\n 'locShimmer',\n 'ddaShimmer',\n 'RPDE',\n 'ddpJitter',\n 'apq5Shimmer',\n 'ppq5Jitter',\n 'locPctJitter',\n 'rapJitter',\n 'numPulses',\n 'PPE',\n 'numPeriodsPulses',\n 'locDbShimmer',\n 'DFA',\n 'locAbsJitter',\n 'apq3Shimmer']"
     },
     "execution_count": 43,
     "metadata": {},
     "output_type": "execute_result"
    }
   ],
   "source": [
    "other_columns"
   ],
   "metadata": {
    "collapsed": false,
    "pycharm": {
     "name": "#%%\n"
    }
   }
  },
  {
   "cell_type": "markdown",
   "source": [
    "After Going through the paper, we can see that the baseline features and time frequency features are the most important features."
   ],
   "metadata": {
    "collapsed": false,
    "pycharm": {
     "name": "#%% md\n"
    }
   }
  },
  {
   "cell_type": "code",
   "execution_count": 59,
   "outputs": [
    {
     "data": {
      "text/plain": "(756, 27)"
     },
     "execution_count": 59,
     "metadata": {},
     "output_type": "execute_result"
    }
   ],
   "source": [
    "# Shailesh: getting dataframe with only baseline and time frequency features\n",
    "extracted_df = baseline[other_columns].join([intensity,frequency,bandwidth])\n",
    "extracted_df.shape"
   ],
   "metadata": {
    "collapsed": false,
    "pycharm": {
     "name": "#%%\n"
    }
   }
  },
  {
   "cell_type": "code",
   "execution_count": 67,
   "outputs": [
    {
     "data": {
      "text/plain": "   apq11Shimmer  locShimmer  ddaShimmer     RPDE  ddpJitter  apq5Shimmer  \\\n0       0.04828     0.05883     0.09034  0.57227    0.00200      0.03496   \n1       0.06195     0.05516     0.06961  0.53966    0.00157      0.03675   \n2       0.07772     0.09902     0.15282  0.58982    0.00171      0.06497   \n3       0.04462     0.05451     0.07185  0.59257    0.00446      0.02857   \n4       0.05278     0.05610     0.08728  0.53028    0.00499      0.03327   \n\n   ppq5Jitter  locPctJitter  rapJitter  numPulses  ...  maxIntensity  \\\n0     0.00129       0.00218    0.00067        240  ...     76.088046   \n1     0.00112       0.00195    0.00052        234  ...     73.046374   \n2     0.00111       0.00176    0.00057        232  ...     71.633549   \n3     0.00268       0.00419    0.00149        178  ...     81.000749   \n4     0.00227       0.00535    0.00166        236  ...     80.937258   \n\n   meanIntensity          f1           f2           f3           f4  \\\n0      72.465512  539.342735  1031.849040  2447.162183  3655.054806   \n1      71.528945  564.363615  1016.367294  2383.565201  3498.681572   \n2      68.086583  548.444604  1032.406341  2357.826954  3678.128717   \n3      79.190593  819.529588  1201.813897  3154.035654  4122.163933   \n4      79.183495  846.796144  1215.346469  3201.513132  4085.456839   \n\n           b1          b2          b3          b4  \n0  101.092218   83.147440  255.214830  396.643631  \n1   58.465428   86.487292  248.357127  218.229722  \n2  160.387771   54.685168  151.694847   84.240339  \n3  238.667052  191.984916  573.752909  526.147599  \n4  402.216738  210.061394  203.637106  384.611697  \n\n[5 rows x 27 columns]",
      "text/html": "<div>\n<style scoped>\n    .dataframe tbody tr th:only-of-type {\n        vertical-align: middle;\n    }\n\n    .dataframe tbody tr th {\n        vertical-align: top;\n    }\n\n    .dataframe thead th {\n        text-align: right;\n    }\n</style>\n<table border=\"1\" class=\"dataframe\">\n  <thead>\n    <tr style=\"text-align: right;\">\n      <th></th>\n      <th>apq11Shimmer</th>\n      <th>locShimmer</th>\n      <th>ddaShimmer</th>\n      <th>RPDE</th>\n      <th>ddpJitter</th>\n      <th>apq5Shimmer</th>\n      <th>ppq5Jitter</th>\n      <th>locPctJitter</th>\n      <th>rapJitter</th>\n      <th>numPulses</th>\n      <th>...</th>\n      <th>maxIntensity</th>\n      <th>meanIntensity</th>\n      <th>f1</th>\n      <th>f2</th>\n      <th>f3</th>\n      <th>f4</th>\n      <th>b1</th>\n      <th>b2</th>\n      <th>b3</th>\n      <th>b4</th>\n    </tr>\n  </thead>\n  <tbody>\n    <tr>\n      <th>0</th>\n      <td>0.04828</td>\n      <td>0.05883</td>\n      <td>0.09034</td>\n      <td>0.57227</td>\n      <td>0.00200</td>\n      <td>0.03496</td>\n      <td>0.00129</td>\n      <td>0.00218</td>\n      <td>0.00067</td>\n      <td>240</td>\n      <td>...</td>\n      <td>76.088046</td>\n      <td>72.465512</td>\n      <td>539.342735</td>\n      <td>1031.849040</td>\n      <td>2447.162183</td>\n      <td>3655.054806</td>\n      <td>101.092218</td>\n      <td>83.147440</td>\n      <td>255.214830</td>\n      <td>396.643631</td>\n    </tr>\n    <tr>\n      <th>1</th>\n      <td>0.06195</td>\n      <td>0.05516</td>\n      <td>0.06961</td>\n      <td>0.53966</td>\n      <td>0.00157</td>\n      <td>0.03675</td>\n      <td>0.00112</td>\n      <td>0.00195</td>\n      <td>0.00052</td>\n      <td>234</td>\n      <td>...</td>\n      <td>73.046374</td>\n      <td>71.528945</td>\n      <td>564.363615</td>\n      <td>1016.367294</td>\n      <td>2383.565201</td>\n      <td>3498.681572</td>\n      <td>58.465428</td>\n      <td>86.487292</td>\n      <td>248.357127</td>\n      <td>218.229722</td>\n    </tr>\n    <tr>\n      <th>2</th>\n      <td>0.07772</td>\n      <td>0.09902</td>\n      <td>0.15282</td>\n      <td>0.58982</td>\n      <td>0.00171</td>\n      <td>0.06497</td>\n      <td>0.00111</td>\n      <td>0.00176</td>\n      <td>0.00057</td>\n      <td>232</td>\n      <td>...</td>\n      <td>71.633549</td>\n      <td>68.086583</td>\n      <td>548.444604</td>\n      <td>1032.406341</td>\n      <td>2357.826954</td>\n      <td>3678.128717</td>\n      <td>160.387771</td>\n      <td>54.685168</td>\n      <td>151.694847</td>\n      <td>84.240339</td>\n    </tr>\n    <tr>\n      <th>3</th>\n      <td>0.04462</td>\n      <td>0.05451</td>\n      <td>0.07185</td>\n      <td>0.59257</td>\n      <td>0.00446</td>\n      <td>0.02857</td>\n      <td>0.00268</td>\n      <td>0.00419</td>\n      <td>0.00149</td>\n      <td>178</td>\n      <td>...</td>\n      <td>81.000749</td>\n      <td>79.190593</td>\n      <td>819.529588</td>\n      <td>1201.813897</td>\n      <td>3154.035654</td>\n      <td>4122.163933</td>\n      <td>238.667052</td>\n      <td>191.984916</td>\n      <td>573.752909</td>\n      <td>526.147599</td>\n    </tr>\n    <tr>\n      <th>4</th>\n      <td>0.05278</td>\n      <td>0.05610</td>\n      <td>0.08728</td>\n      <td>0.53028</td>\n      <td>0.00499</td>\n      <td>0.03327</td>\n      <td>0.00227</td>\n      <td>0.00535</td>\n      <td>0.00166</td>\n      <td>236</td>\n      <td>...</td>\n      <td>80.937258</td>\n      <td>79.183495</td>\n      <td>846.796144</td>\n      <td>1215.346469</td>\n      <td>3201.513132</td>\n      <td>4085.456839</td>\n      <td>402.216738</td>\n      <td>210.061394</td>\n      <td>203.637106</td>\n      <td>384.611697</td>\n    </tr>\n  </tbody>\n</table>\n<p>5 rows × 27 columns</p>\n</div>"
     },
     "execution_count": 67,
     "metadata": {},
     "output_type": "execute_result"
    }
   ],
   "source": [
    "extracted_df.head()"
   ],
   "metadata": {
    "collapsed": false,
    "pycharm": {
     "name": "#%%\n"
    }
   }
  },
  {
   "cell_type": "code",
   "execution_count": null,
   "outputs": [],
   "source": [],
   "metadata": {
    "collapsed": false,
    "pycharm": {
     "name": "#%%\n"
    }
   }
  }
 ],
 "metadata": {
  "kernelspec": {
   "display_name": "Python 3",
   "language": "python",
   "name": "python3"
  },
  "language_info": {
   "codemirror_mode": {
    "name": "ipython",
    "version": 2
   },
   "file_extension": ".py",
   "mimetype": "text/x-python",
   "name": "python",
   "nbconvert_exporter": "python",
   "pygments_lexer": "ipython2",
   "version": "2.7.6"
  }
 },
 "nbformat": 4,
 "nbformat_minor": 0
}