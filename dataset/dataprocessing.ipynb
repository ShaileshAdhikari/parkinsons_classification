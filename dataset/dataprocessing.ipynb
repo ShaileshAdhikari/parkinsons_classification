{
 "cells": [
  {
   "cell_type": "code",
   "execution_count": 2,
   "outputs": [],
   "source": [
    "import pandas as pd\n",
    "import numpy as np"
   ],
   "metadata": {
    "collapsed": false,
    "pycharm": {
     "name": "#%%\n"
    }
   }
  },
  {
   "cell_type": "code",
   "execution_count": 7,
   "outputs": [],
   "source": [
    "filename = '/home/shailesh/Desktop/fuse-project-1/dataset/orginal_dataset/pd_speech_features.csv'\n",
    "dataframe = pd.read_csv(filename)"
   ],
   "metadata": {
    "collapsed": false,
    "pycharm": {
     "name": "#%%\n"
    }
   }
  },
  {
   "cell_type": "code",
   "execution_count": 8,
   "outputs": [
    {
     "data": {
      "text/plain": "   id  gender      PPE      DFA     RPDE  numPulses  numPeriodsPulses  \\\n0   0       1  0.85247  0.71826  0.57227        240               239   \n1   0       1  0.76686  0.69481  0.53966        234               233   \n2   0       1  0.85083  0.67604  0.58982        232               231   \n3   1       0  0.41121  0.79672  0.59257        178               177   \n4   1       0  0.32790  0.79782  0.53028        236               235   \n\n   meanPeriodPulses  stdDevPeriodPulses  locPctJitter  ...  \\\n0          0.008064            0.000087       0.00218  ...   \n1          0.008258            0.000073       0.00195  ...   \n2          0.008340            0.000060       0.00176  ...   \n3          0.010858            0.000183       0.00419  ...   \n4          0.008162            0.002669       0.00535  ...   \n\n   tqwt_kurtosisValue_dec_28  tqwt_kurtosisValue_dec_29  \\\n0                     1.5620                     2.6445   \n1                     1.5589                     3.6107   \n2                     1.5643                     2.3308   \n3                     3.7805                     3.5664   \n4                     6.1727                     5.8416   \n\n   tqwt_kurtosisValue_dec_30  tqwt_kurtosisValue_dec_31  \\\n0                     3.8686                     4.2105   \n1                    23.5155                    14.1962   \n2                     9.4959                    10.7458   \n3                     5.2558                    14.0403   \n4                     6.0805                     5.7621   \n\n   tqwt_kurtosisValue_dec_32  tqwt_kurtosisValue_dec_33  \\\n0                     5.1221                     4.4625   \n1                    11.0261                     9.5082   \n2                    11.0177                     4.8066   \n3                     4.2235                     4.6857   \n4                     7.7817                    11.6891   \n\n   tqwt_kurtosisValue_dec_34  tqwt_kurtosisValue_dec_35  \\\n0                     2.6202                     3.0004   \n1                     6.5245                     6.3431   \n2                     2.9199                     3.1495   \n3                     4.8460                     6.2650   \n4                     8.2103                     5.0559   \n\n   tqwt_kurtosisValue_dec_36  class  \n0                    18.9405      1  \n1                    45.1780      1  \n2                     4.7666      1  \n3                     4.0603      1  \n4                     6.1164      1  \n\n[5 rows x 755 columns]",
      "text/html": "<div>\n<style scoped>\n    .dataframe tbody tr th:only-of-type {\n        vertical-align: middle;\n    }\n\n    .dataframe tbody tr th {\n        vertical-align: top;\n    }\n\n    .dataframe thead th {\n        text-align: right;\n    }\n</style>\n<table border=\"1\" class=\"dataframe\">\n  <thead>\n    <tr style=\"text-align: right;\">\n      <th></th>\n      <th>id</th>\n      <th>gender</th>\n      <th>PPE</th>\n      <th>DFA</th>\n      <th>RPDE</th>\n      <th>numPulses</th>\n      <th>numPeriodsPulses</th>\n      <th>meanPeriodPulses</th>\n      <th>stdDevPeriodPulses</th>\n      <th>locPctJitter</th>\n      <th>...</th>\n      <th>tqwt_kurtosisValue_dec_28</th>\n      <th>tqwt_kurtosisValue_dec_29</th>\n      <th>tqwt_kurtosisValue_dec_30</th>\n      <th>tqwt_kurtosisValue_dec_31</th>\n      <th>tqwt_kurtosisValue_dec_32</th>\n      <th>tqwt_kurtosisValue_dec_33</th>\n      <th>tqwt_kurtosisValue_dec_34</th>\n      <th>tqwt_kurtosisValue_dec_35</th>\n      <th>tqwt_kurtosisValue_dec_36</th>\n      <th>class</th>\n    </tr>\n  </thead>\n  <tbody>\n    <tr>\n      <th>0</th>\n      <td>0</td>\n      <td>1</td>\n      <td>0.85247</td>\n      <td>0.71826</td>\n      <td>0.57227</td>\n      <td>240</td>\n      <td>239</td>\n      <td>0.008064</td>\n      <td>0.000087</td>\n      <td>0.00218</td>\n      <td>...</td>\n      <td>1.5620</td>\n      <td>2.6445</td>\n      <td>3.8686</td>\n      <td>4.2105</td>\n      <td>5.1221</td>\n      <td>4.4625</td>\n      <td>2.6202</td>\n      <td>3.0004</td>\n      <td>18.9405</td>\n      <td>1</td>\n    </tr>\n    <tr>\n      <th>1</th>\n      <td>0</td>\n      <td>1</td>\n      <td>0.76686</td>\n      <td>0.69481</td>\n      <td>0.53966</td>\n      <td>234</td>\n      <td>233</td>\n      <td>0.008258</td>\n      <td>0.000073</td>\n      <td>0.00195</td>\n      <td>...</td>\n      <td>1.5589</td>\n      <td>3.6107</td>\n      <td>23.5155</td>\n      <td>14.1962</td>\n      <td>11.0261</td>\n      <td>9.5082</td>\n      <td>6.5245</td>\n      <td>6.3431</td>\n      <td>45.1780</td>\n      <td>1</td>\n    </tr>\n    <tr>\n      <th>2</th>\n      <td>0</td>\n      <td>1</td>\n      <td>0.85083</td>\n      <td>0.67604</td>\n      <td>0.58982</td>\n      <td>232</td>\n      <td>231</td>\n      <td>0.008340</td>\n      <td>0.000060</td>\n      <td>0.00176</td>\n      <td>...</td>\n      <td>1.5643</td>\n      <td>2.3308</td>\n      <td>9.4959</td>\n      <td>10.7458</td>\n      <td>11.0177</td>\n      <td>4.8066</td>\n      <td>2.9199</td>\n      <td>3.1495</td>\n      <td>4.7666</td>\n      <td>1</td>\n    </tr>\n    <tr>\n      <th>3</th>\n      <td>1</td>\n      <td>0</td>\n      <td>0.41121</td>\n      <td>0.79672</td>\n      <td>0.59257</td>\n      <td>178</td>\n      <td>177</td>\n      <td>0.010858</td>\n      <td>0.000183</td>\n      <td>0.00419</td>\n      <td>...</td>\n      <td>3.7805</td>\n      <td>3.5664</td>\n      <td>5.2558</td>\n      <td>14.0403</td>\n      <td>4.2235</td>\n      <td>4.6857</td>\n      <td>4.8460</td>\n      <td>6.2650</td>\n      <td>4.0603</td>\n      <td>1</td>\n    </tr>\n    <tr>\n      <th>4</th>\n      <td>1</td>\n      <td>0</td>\n      <td>0.32790</td>\n      <td>0.79782</td>\n      <td>0.53028</td>\n      <td>236</td>\n      <td>235</td>\n      <td>0.008162</td>\n      <td>0.002669</td>\n      <td>0.00535</td>\n      <td>...</td>\n      <td>6.1727</td>\n      <td>5.8416</td>\n      <td>6.0805</td>\n      <td>5.7621</td>\n      <td>7.7817</td>\n      <td>11.6891</td>\n      <td>8.2103</td>\n      <td>5.0559</td>\n      <td>6.1164</td>\n      <td>1</td>\n    </tr>\n  </tbody>\n</table>\n<p>5 rows × 755 columns</p>\n</div>"
     },
     "execution_count": 8,
     "metadata": {},
     "output_type": "execute_result"
    }
   ],
   "source": [
    "dataframe.head()"
   ],
   "metadata": {
    "collapsed": false,
    "pycharm": {
     "name": "#%%\n"
    }
   }
  },
  {
   "cell_type": "code",
   "execution_count": 10,
   "outputs": [],
   "source": [
    "columns = dataframe.columns"
   ],
   "metadata": {
    "collapsed": false,
    "pycharm": {
     "name": "#%%\n"
    }
   }
  },
  {
   "cell_type": "code",
   "execution_count": 11,
   "outputs": [
    {
     "data": {
      "text/plain": "Index(['id', 'gender', 'PPE', 'DFA', 'RPDE', 'numPulses', 'numPeriodsPulses',\n       'meanPeriodPulses', 'stdDevPeriodPulses', 'locPctJitter',\n       ...\n       'tqwt_kurtosisValue_dec_28', 'tqwt_kurtosisValue_dec_29',\n       'tqwt_kurtosisValue_dec_30', 'tqwt_kurtosisValue_dec_31',\n       'tqwt_kurtosisValue_dec_32', 'tqwt_kurtosisValue_dec_33',\n       'tqwt_kurtosisValue_dec_34', 'tqwt_kurtosisValue_dec_35',\n       'tqwt_kurtosisValue_dec_36', 'class'],\n      dtype='object', length=755)"
     },
     "execution_count": 11,
     "metadata": {},
     "output_type": "execute_result"
    }
   ],
   "source": [
    "columns"
   ],
   "metadata": {
    "collapsed": false,
    "pycharm": {
     "name": "#%%\n"
    }
   }
  },
  {
   "cell_type": "code",
   "execution_count": null,
   "outputs": [],
   "source": [],
   "metadata": {
    "collapsed": false,
    "pycharm": {
     "name": "#%%\n"
    }
   }
  }
 ],
 "metadata": {
  "kernelspec": {
   "display_name": "Python 3",
   "language": "python",
   "name": "python3"
  },
  "language_info": {
   "codemirror_mode": {
    "name": "ipython",
    "version": 2
   },
   "file_extension": ".py",
   "mimetype": "text/x-python",
   "name": "python",
   "nbconvert_exporter": "python",
   "pygments_lexer": "ipython2",
   "version": "2.7.6"
  }
 },
 "nbformat": 4,
 "nbformat_minor": 0
}